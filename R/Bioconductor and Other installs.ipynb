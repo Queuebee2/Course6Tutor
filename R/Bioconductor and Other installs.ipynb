{
 "cells": [
  {
   "cell_type": "markdown",
   "metadata": {},
   "source": [
    "### Install Bioconductor\n",
    "A library of important packages\n"
   ]
  },
  {
   "cell_type": "code",
   "execution_count": 1,
   "metadata": {
    "collapsed": true
   },
   "outputs": [
    {
     "name": "stdout",
     "output_type": "stream",
     "text": [
      "\n",
      "  There is a binary version available but the source version is later:\n",
      "            binary  source needs_compilation\n",
      "BiocManager 1.30.9 1.30.10             FALSE\n",
      "\n"
     ]
    },
    {
     "name": "stderr",
     "output_type": "stream",
     "text": [
      "installing the source package 'BiocManager'\n",
      "\n",
      "Bioconductor version 3.10 (BiocManager 1.30.10), R 3.6.1 (2019-07-05)\n",
      "Installing package(s) 'BiocVersion'\n"
     ]
    },
    {
     "name": "stdout",
     "output_type": "stream",
     "text": [
      "package 'BiocVersion' successfully unpacked and MD5 sums checked\n",
      "\n",
      "The downloaded binary packages are in\n",
      "\tC:\\Users\\Milai\\AppData\\Local\\Temp\\RtmpU70j6l\\downloaded_packages\n"
     ]
    },
    {
     "name": "stderr",
     "output_type": "stream",
     "text": [
      "Old packages: 'askpass', 'backports', 'boot', 'callr', 'caret', 'clipr',\n",
      "  'cluster', 'curl', 'data.table', 'dbplyr', 'digest', 'dplyr', 'ellipsis',\n",
      "  'evaluate', 'foreach', 'foreign', 'formatR', 'fs', 'ggplot2', 'glmnet',\n",
      "  'gower', 'haven', 'hexbin', 'hms', 'htmltools', 'htmlwidgets', 'httpuv',\n",
      "  'httr', 'ipred', 'IRkernel', 'iterators', 'KernSmooth', 'knitr', 'later',\n",
      "  'lava', 'markdown', 'MASS', 'mgcv', 'mime', 'modelr', 'nlme', 'numDeriv',\n",
      "  'openssl', 'pillar', 'pkgconfig', 'processx', 'prodlim', 'progress',\n",
      "  'promises', 'purrr', 'quantmod', 'R6', 'Rcpp', 'recipes', 'repr', 'reprex',\n",
      "  'rlang', 'rmarkdown', 'rvest', 'shiny', 'survival', 'sys', 'tibble', 'tidyr',\n",
      "  'tinytex', 'TTR', 'whisker', 'xfun', 'xml2', 'zoo'\n"
     ]
    }
   ],
   "source": [
    "if (!requireNamespace(\"BiocManager\", quietly = TRUE))\n",
    "    install.packages(\"BiocManager\")\n",
    "BiocManager::install()"
   ]
  },
  {
   "cell_type": "markdown",
   "metadata": {},
   "source": [
    "### install bioBase\n",
    "used to open vignettes of packages"
   ]
  },
  {
   "cell_type": "code",
   "execution_count": 3,
   "metadata": {
    "collapsed": true
   },
   "outputs": [
    {
     "name": "stderr",
     "output_type": "stream",
     "text": [
      "Bioconductor version 3.10 (BiocManager 1.30.10), R 3.6.1 (2019-07-05)\n",
      "Installing package(s) 'Biobase'\n",
      "also installing the dependency 'BiocGenerics'\n",
      "\n"
     ]
    },
    {
     "name": "stdout",
     "output_type": "stream",
     "text": [
      "package 'BiocGenerics' successfully unpacked and MD5 sums checked\n",
      "package 'Biobase' successfully unpacked and MD5 sums checked\n",
      "\n",
      "The downloaded binary packages are in\n",
      "\tC:\\Users\\Milai\\AppData\\Local\\Temp\\RtmpU70j6l\\downloaded_packages\n"
     ]
    },
    {
     "name": "stderr",
     "output_type": "stream",
     "text": [
      "Old packages: 'askpass', 'backports', 'boot', 'callr', 'caret', 'clipr',\n",
      "  'cluster', 'curl', 'data.table', 'dbplyr', 'digest', 'dplyr', 'ellipsis',\n",
      "  'evaluate', 'foreach', 'foreign', 'formatR', 'fs', 'ggplot2', 'glmnet',\n",
      "  'gower', 'haven', 'hexbin', 'hms', 'htmltools', 'htmlwidgets', 'httpuv',\n",
      "  'httr', 'ipred', 'IRkernel', 'iterators', 'KernSmooth', 'knitr', 'later',\n",
      "  'lava', 'markdown', 'MASS', 'mgcv', 'mime', 'modelr', 'nlme', 'numDeriv',\n",
      "  'openssl', 'pillar', 'pkgconfig', 'processx', 'prodlim', 'progress',\n",
      "  'promises', 'purrr', 'quantmod', 'R6', 'Rcpp', 'recipes', 'repr', 'reprex',\n",
      "  'rlang', 'rmarkdown', 'rvest', 'shiny', 'survival', 'sys', 'tibble', 'tidyr',\n",
      "  'tinytex', 'TTR', 'whisker', 'xfun', 'xml2', 'zoo'\n"
     ]
    }
   ],
   "source": [
    "if (!requireNamespace(\"BiocManager\", quietly = TRUE))\n",
    "    install.packages(\"BiocManager\")\n",
    "\n",
    "BiocManager::install(\"Biobase\")"
   ]
  },
  {
   "cell_type": "markdown",
   "metadata": {},
   "source": [
    "### install edgeR"
   ]
  },
  {
   "cell_type": "code",
   "execution_count": 4,
   "metadata": {
    "collapsed": true
   },
   "outputs": [
    {
     "name": "stderr",
     "output_type": "stream",
     "text": [
      "Bioconductor version 3.10 (BiocManager 1.30.10), R 3.6.1 (2019-07-05)\n",
      "Installing package(s) 'edgeR'\n",
      "also installing the dependencies 'limma', 'locfit'\n",
      "\n"
     ]
    },
    {
     "name": "stdout",
     "output_type": "stream",
     "text": [
      "package 'limma' successfully unpacked and MD5 sums checked\n",
      "package 'locfit' successfully unpacked and MD5 sums checked\n",
      "package 'edgeR' successfully unpacked and MD5 sums checked\n",
      "\n",
      "The downloaded binary packages are in\n",
      "\tC:\\Users\\Milai\\AppData\\Local\\Temp\\RtmpU70j6l\\downloaded_packages\n"
     ]
    },
    {
     "name": "stderr",
     "output_type": "stream",
     "text": [
      "Old packages: 'askpass', 'backports', 'boot', 'callr', 'caret', 'clipr',\n",
      "  'cluster', 'curl', 'data.table', 'dbplyr', 'digest', 'dplyr', 'ellipsis',\n",
      "  'evaluate', 'foreach', 'foreign', 'formatR', 'fs', 'ggplot2', 'glmnet',\n",
      "  'gower', 'haven', 'hexbin', 'hms', 'htmltools', 'htmlwidgets', 'httpuv',\n",
      "  'httr', 'ipred', 'IRkernel', 'iterators', 'KernSmooth', 'knitr', 'later',\n",
      "  'lava', 'markdown', 'MASS', 'mgcv', 'mime', 'modelr', 'nlme', 'numDeriv',\n",
      "  'openssl', 'pillar', 'pkgconfig', 'processx', 'prodlim', 'progress',\n",
      "  'promises', 'purrr', 'quantmod', 'R6', 'Rcpp', 'recipes', 'repr', 'reprex',\n",
      "  'rlang', 'rmarkdown', 'rvest', 'shiny', 'survival', 'sys', 'tibble', 'tidyr',\n",
      "  'tinytex', 'TTR', 'whisker', 'xfun', 'xml2', 'zoo'\n"
     ]
    }
   ],
   "source": [
    "if (!requireNamespace(\"BiocManager\", quietly = TRUE))\n",
    "    install.packages(\"BiocManager\")\n",
    " \n",
    "BiocManager::install(\"edgeR\")"
   ]
  },
  {
   "cell_type": "markdown",
   "metadata": {},
   "source": [
    "### Citations"
   ]
  },
  {
   "cell_type": "code",
   "execution_count": 10,
   "metadata": {
    "scrolled": true
   },
   "outputs": [
    {
     "data": {
      "text/plain": [
       "\n",
       "  Orchestrating high-throughput genomic analysis with Bioconductor. W.\n",
       "  Huber, V.J. Carey, R. Gentleman, ..., M. Morgan Nature Methods,\n",
       "  2015:12, 115.\n",
       "\n",
       "A BibTeX entry for LaTeX users is\n",
       "\n",
       "  @Article{,\n",
       "    author = {W. Huber and V. J. Carey and R. Gentleman and S. Anders and M. Carlson and B. S. Carvalho and H. C. Bravo and S. Davis and L. Gatto and T. Girke and R. Gottardo and F. Hahne and K. D. Hansen and R. A. Irizarry and M. Lawrence and M. I. Love and J. MacDonald and V. Obenchain and A. K. {Ole's} and H. {Pag`es} and A. Reyes and P. Shannon and G. K. Smyth and D. Tenenbaum and L. Waldron and M. Morgan},\n",
       "    title = {{O}rchestrating high-throughput genomic analysis with {B}ioconductor},\n",
       "    journal = {Nature Methods},\n",
       "    year = {2015},\n",
       "    volume = {12},\n",
       "    number = {2},\n",
       "    pages = {115--121},\n",
       "    url = {http://www.nature.com/nmeth/journal/v12/n2/full/nmeth.3252.html},\n",
       "  }\n"
      ]
     },
     "metadata": {},
     "output_type": "display_data"
    }
   ],
   "source": [
    "citation(\"BiocManager\")\n",
    "citation(\"edgeR\")\n",
    "citation(\"Biobase\")"
   ]
  },
  {
   "cell_type": "code",
   "execution_count": null,
   "metadata": {},
   "outputs": [],
   "source": []
  }
 ],
 "metadata": {
  "kernelspec": {
   "display_name": "R",
   "language": "R",
   "name": "ir"
  },
  "language_info": {
   "codemirror_mode": "r",
   "file_extension": ".r",
   "mimetype": "text/x-r-source",
   "name": "R",
   "pygments_lexer": "r",
   "version": "3.6.1"
  }
 },
 "nbformat": 4,
 "nbformat_minor": 2
}
