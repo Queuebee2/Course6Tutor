{
 "cells": [
  {
   "cell_type": "markdown",
   "metadata": {},
   "source": [
    "## Filtering and normalization\n",
    "\n",
    "\n",
    "######  edgeRUsersGuide() about normalisation, 2.7.1\n",
    "> edgeR is concerned with differential expression analysis rather than with the quantification of\n",
    "expression levels. It is concerned with relative changes in expression levels between conditions,\n",
    "but not directly with estimating absolute expression levels.\n",
    "\n",
    "\n"
   ]
  },
  {
   "cell_type": "markdown",
   "metadata": {},
   "source": [
    "First let's load edgeR and then see if the data loads."
   ]
  },
  {
   "cell_type": "code",
   "execution_count": 1,
   "metadata": {},
   "outputs": [
    {
     "name": "stderr",
     "output_type": "stream",
     "text": [
      "Loading required package: limma\n"
     ]
    },
    {
     "data": {
      "text/html": [
       "<table>\n",
       "<thead><tr><th scope=col>ID</th><th scope=col>WCFS1.glc.1</th><th scope=col>WCFS1.glc.2</th><th scope=col>WCFS1.rib.1</th><th scope=col>WCFS1.rib.2</th><th scope=col>NC8.glc.1</th><th scope=col>NC8.glc.2</th><th scope=col>NC8.rib.1</th><th scope=col>NC8.rib.2</th></tr></thead>\n",
       "<tbody>\n",
       "\t<tr><td>lp_0001</td><td>  8100 </td><td> 9599  </td><td> 8144  </td><td> 7000  </td><td>  7117 </td><td> 8278  </td><td> 7457  </td><td> 6980  </td></tr>\n",
       "\t<tr><td>lp_0002</td><td> 12679 </td><td>15856  </td><td>11539  </td><td>11049  </td><td> 10815 </td><td>14348  </td><td>10552  </td><td>10735  </td></tr>\n",
       "\t<tr><td>lp_0004</td><td>  1795 </td><td> 1946  </td><td> 1470  </td><td> 1607  </td><td>  1489 </td><td> 1407  </td><td> 1587  </td><td> 1699  </td></tr>\n",
       "\t<tr><td>lp_0005</td><td>  8538 </td><td> 8740  </td><td> 5699  </td><td> 7402  </td><td>  6497 </td><td> 8565  </td><td> 6581  </td><td> 8342  </td></tr>\n",
       "\t<tr><td>lp_0009</td><td> 56040 </td><td>42130  </td><td>31941  </td><td>23500  </td><td> 61965 </td><td>37353  </td><td>20498  </td><td>18188  </td></tr>\n",
       "\t<tr><td>lp_0010</td><td>105615 </td><td>90094  </td><td>60086  </td><td>52584  </td><td>103873 </td><td>91726  </td><td>45530  </td><td>44802  </td></tr>\n",
       "</tbody>\n",
       "</table>\n"
      ],
      "text/latex": [
       "\\begin{tabular}{r|lllllllll}\n",
       " ID & WCFS1.glc.1 & WCFS1.glc.2 & WCFS1.rib.1 & WCFS1.rib.2 & NC8.glc.1 & NC8.glc.2 & NC8.rib.1 & NC8.rib.2\\\\\n",
       "\\hline\n",
       "\t lp\\_0001 &   8100    &  9599     &  8144     &  7000     &   7117    &  8278     &  7457     &  6980    \\\\\n",
       "\t lp\\_0002 &  12679    & 15856     & 11539     & 11049     &  10815    & 14348     & 10552     & 10735    \\\\\n",
       "\t lp\\_0004 &   1795    &  1946     &  1470     &  1607     &   1489    &  1407     &  1587     &  1699    \\\\\n",
       "\t lp\\_0005 &   8538    &  8740     &  5699     &  7402     &   6497    &  8565     &  6581     &  8342    \\\\\n",
       "\t lp\\_0009 &  56040    & 42130     & 31941     & 23500     &  61965    & 37353     & 20498     & 18188    \\\\\n",
       "\t lp\\_0010 & 105615    & 90094     & 60086     & 52584     & 103873    & 91726     & 45530     & 44802    \\\\\n",
       "\\end{tabular}\n"
      ],
      "text/markdown": [
       "\n",
       "| ID | WCFS1.glc.1 | WCFS1.glc.2 | WCFS1.rib.1 | WCFS1.rib.2 | NC8.glc.1 | NC8.glc.2 | NC8.rib.1 | NC8.rib.2 |\n",
       "|---|---|---|---|---|---|---|---|---|\n",
       "| lp_0001 |   8100  |  9599   |  8144   |  7000   |   7117  |  8278   |  7457   |  6980   |\n",
       "| lp_0002 |  12679  | 15856   | 11539   | 11049   |  10815  | 14348   | 10552   | 10735   |\n",
       "| lp_0004 |   1795  |  1946   |  1470   |  1607   |   1489  |  1407   |  1587   |  1699   |\n",
       "| lp_0005 |   8538  |  8740   |  5699   |  7402   |   6497  |  8565   |  6581   |  8342   |\n",
       "| lp_0009 |  56040  | 42130   | 31941   | 23500   |  61965  | 37353   | 20498   | 18188   |\n",
       "| lp_0010 | 105615  | 90094   | 60086   | 52584   | 103873  | 91726   | 45530   | 44802   |\n",
       "\n"
      ],
      "text/plain": [
       "  ID      WCFS1.glc.1 WCFS1.glc.2 WCFS1.rib.1 WCFS1.rib.2 NC8.glc.1 NC8.glc.2\n",
       "1 lp_0001   8100       9599        8144        7000         7117     8278    \n",
       "2 lp_0002  12679      15856       11539       11049        10815    14348    \n",
       "3 lp_0004   1795       1946        1470        1607         1489     1407    \n",
       "4 lp_0005   8538       8740        5699        7402         6497     8565    \n",
       "5 lp_0009  56040      42130       31941       23500        61965    37353    \n",
       "6 lp_0010 105615      90094       60086       52584       103873    91726    \n",
       "  NC8.rib.1 NC8.rib.2\n",
       "1  7457      6980    \n",
       "2 10552     10735    \n",
       "3  1587      1699    \n",
       "4  6581      8342    \n",
       "5 20498     18188    \n",
       "6 45530     44802    "
      ]
     },
     "metadata": {},
     "output_type": "display_data"
    }
   ],
   "source": [
    "library(edgeR)\n",
    "raw_data <- read.delim(\"RNA-Seq-counts.txt\")\n",
    "head(raw_data)"
   ]
  },
  {
   "cell_type": "markdown",
   "metadata": {},
   "source": [
    "###  initiate edgeR. \n",
    "> edgeR stores data in a simple list-based data object called a DGEList. This type of object is\n",
    "easy to use because it can be manipulated like any list in R. The function readDGE makes a\n",
    "DGEList object directly. If the table of counts is already available as a matrix or a data.frame,\n",
    "x say, then a DGEList\n",
    "\n",
    "### use a `DGEList` \n",
    "##### <sub>( i guess ) </sub>\n",
    "> A Differential Gene Expression List Object from the edgeR library\n",
    "\n",
    "I think the thing we're doing is Differential gene expression analysis?\n",
    "> Differential expression analysis means taking the normalised read count data and performing statistical analysis to discover quantitative changes in expression levels between experimental groups.\n",
    "\n",
    "So we have to normalise the data before we can do stuff. Good thing we're using edgeR\n",
    "> edgeR is concerned with differential expression analysis rather than with the quantification of\n",
    "expression levels.\n",
    "\n",
    "The counts we're using for these statistics will conists of the RNA.Seq read counts of two samples of L. Plantarum (strain WCFS1) grown on Glucose and two grown on Ribose. Glucose being the reference sample. \n",
    "\n",
    "###### Todo/discuss\n",
    "For now, the gene attribute will only hold gene identifiers. DGElist can have gene annotation in this field.\n",
    "also see the org.Mm.eg.db package.\n",
    "\n",
    "\n"
   ]
  },
  {
   "cell_type": "code",
   "execution_count": 2,
   "metadata": {},
   "outputs": [
    {
     "data": {
      "text/html": [
       "<table>\n",
       "<thead><tr><th scope=col>WCFS1.glc.1</th><th scope=col>WCFS1.glc.2</th><th scope=col>WCFS1.rib.1</th><th scope=col>WCFS1.rib.2</th></tr></thead>\n",
       "<tbody>\n",
       "\t<tr><td> 8100</td><td> 9599</td><td> 8144</td><td> 7000</td></tr>\n",
       "\t<tr><td>12679</td><td>15856</td><td>11539</td><td>11049</td></tr>\n",
       "\t<tr><td> 1795</td><td> 1946</td><td> 1470</td><td> 1607</td></tr>\n",
       "\t<tr><td> 8538</td><td> 8740</td><td> 5699</td><td> 7402</td></tr>\n",
       "\t<tr><td>56040</td><td>42130</td><td>31941</td><td>23500</td></tr>\n",
       "</tbody>\n",
       "</table>\n"
      ],
      "text/latex": [
       "\\begin{tabular}{r|llll}\n",
       " WCFS1.glc.1 & WCFS1.glc.2 & WCFS1.rib.1 & WCFS1.rib.2\\\\\n",
       "\\hline\n",
       "\t  8100 &  9599 &  8144 &  7000\\\\\n",
       "\t 12679 & 15856 & 11539 & 11049\\\\\n",
       "\t  1795 &  1946 &  1470 &  1607\\\\\n",
       "\t  8538 &  8740 &  5699 &  7402\\\\\n",
       "\t 56040 & 42130 & 31941 & 23500\\\\\n",
       "\\end{tabular}\n"
      ],
      "text/markdown": [
       "\n",
       "| WCFS1.glc.1 | WCFS1.glc.2 | WCFS1.rib.1 | WCFS1.rib.2 |\n",
       "|---|---|---|---|\n",
       "|  8100 |  9599 |  8144 |  7000 |\n",
       "| 12679 | 15856 | 11539 | 11049 |\n",
       "|  1795 |  1946 |  1470 |  1607 |\n",
       "|  8538 |  8740 |  5699 |  7402 |\n",
       "| 56040 | 42130 | 31941 | 23500 |\n",
       "\n"
      ],
      "text/plain": [
       "  WCFS1.glc.1 WCFS1.glc.2 WCFS1.rib.1 WCFS1.rib.2\n",
       "1  8100        9599        8144        7000      \n",
       "2 12679       15856       11539       11049      \n",
       "3  1795        1946        1470        1607      \n",
       "4  8538        8740        5699        7402      \n",
       "5 56040       42130       31941       23500      "
      ]
     },
     "metadata": {},
     "output_type": "display_data"
    }
   ],
   "source": [
    "data_as_DGElist <- DGEList(counts=raw_data[,2:5], group=c(\"glucose\",\"glucose\",\"ribose\",\"ribose\"),genes=raw_data[1])\n",
    "# Extracting values by index from a list or object in R is done as follows \n",
    "# [startrow:endrow,startcol:endcol]\n",
    "data_as_DGElist$counts[1:5,] # show the first 5 rows (yes, 0:5 would work, too.)"
   ]
  },
  {
   "cell_type": "markdown",
   "metadata": {},
   "source": [
    "### `filterByExpr`: Filter Genes By Expression Level\n",
    "> Determine which genes have sufficiently large counts to be retained in a statistical analysis."
   ]
  },
  {
   "cell_type": "code",
   "execution_count": 12,
   "metadata": {},
   "outputs": [],
   "source": [
    "keepables = filterByExpr(data_as_DGElist)\n",
    "filtered_data = data_as_DGElist[keepables,]"
   ]
  },
  {
   "cell_type": "markdown",
   "metadata": {},
   "source": [
    "### Normalisation using `calcNormFactors`\n",
    "more about TMM normalisation here https://www.biostars.org/p/269870/\n",
    "\n",
    "the next part is taken literally from the workflow example here https://f1000research.com/articles/5-1438 and is also described in the edgeR manual.\n",
    "> Normalization for composition bias\n",
    "Normalization by trimmed mean of M values (TMM)17 is performed by using the calcNormFactors function, which returns the DGEList argument with only the norm.factors changed. It calculates a set of normalization factors, one for each sample, to eliminate composition biases between libraries.\n",
    "\n",
    "The normalisation is a complex process\n",
    "- step 1: remove all untranscribed genes\n",
    "- step 2: pick reference sample:\n",
    "    - this is done by edgeR. it scales each sample by the total read counts then determines the 75th quantiles and takes the average of each quantile to determine which sample to use as reference, based on which has it's 75th quantile closest to average of all quantiles.\n",
    "- step 3: select genes for scaling factors\n",
    "    - first, remove 60% of biased genes and 10% of high and lowly expressed gene counts. The remaining list will be used to determine the scaling factor. (custom thresholds can be set)\n"
   ]
  },
  {
   "cell_type": "code",
   "execution_count": 16,
   "metadata": {},
   "outputs": [
    {
     "data": {
      "text/html": [
       "<table>\n",
       "<thead><tr><th scope=col>WCFS1.glc.1</th><th scope=col>WCFS1.glc.2</th><th scope=col>WCFS1.rib.1</th><th scope=col>WCFS1.rib.2</th></tr></thead>\n",
       "<tbody>\n",
       "\t<tr><td> 8100</td><td> 9599</td><td> 8144</td><td> 7000</td></tr>\n",
       "\t<tr><td>12679</td><td>15856</td><td>11539</td><td>11049</td></tr>\n",
       "\t<tr><td> 1795</td><td> 1946</td><td> 1470</td><td> 1607</td></tr>\n",
       "</tbody>\n",
       "</table>\n"
      ],
      "text/latex": [
       "\\begin{tabular}{r|llll}\n",
       " WCFS1.glc.1 & WCFS1.glc.2 & WCFS1.rib.1 & WCFS1.rib.2\\\\\n",
       "\\hline\n",
       "\t  8100 &  9599 &  8144 &  7000\\\\\n",
       "\t 12679 & 15856 & 11539 & 11049\\\\\n",
       "\t  1795 &  1946 &  1470 &  1607\\\\\n",
       "\\end{tabular}\n"
      ],
      "text/markdown": [
       "\n",
       "| WCFS1.glc.1 | WCFS1.glc.2 | WCFS1.rib.1 | WCFS1.rib.2 |\n",
       "|---|---|---|---|\n",
       "|  8100 |  9599 |  8144 |  7000 |\n",
       "| 12679 | 15856 | 11539 | 11049 |\n",
       "|  1795 |  1946 |  1470 |  1607 |\n",
       "\n"
      ],
      "text/plain": [
       "  WCFS1.glc.1 WCFS1.glc.2 WCFS1.rib.1 WCFS1.rib.2\n",
       "1  8100        9599        8144        7000      \n",
       "2 12679       15856       11539       11049      \n",
       "3  1795        1946        1470        1607      "
      ]
     },
     "metadata": {},
     "output_type": "display_data"
    }
   ],
   "source": [
    "normalised_data <- calcNormFactors(filtered_data)\n",
    "normalised_data$counts[1:3,]"
   ]
  },
  {
   "cell_type": "markdown",
   "metadata": {},
   "source": []
  },
  {
   "cell_type": "markdown",
   "metadata": {},
   "source": [
    "Now we can plot MDS\n",
    "> Multidimensional scaling (MDS) is a means of visualizing the level of similarity of individual cases of a dataset. MDS is used to translate \"information about the pairwise 'distances' among a set of n objects or individuals\" into a configuration of n points mapped into an abstract Cartesian space."
   ]
  },
  {
   "cell_type": "code",
   "execution_count": null,
   "metadata": {},
   "outputs": [],
   "source": [
    "plotMDS(normalised_data)"
   ]
  },
  {
   "cell_type": "markdown",
   "metadata": {},
   "source": [
    "Now lets estimate the dispersion and plot it using plotBCV\n",
    "> The square root of dispersion is the coefficient of biological variation"
   ]
  },
  {
   "cell_type": "code",
   "execution_count": null,
   "metadata": {},
   "outputs": [],
   "source": [
    "normalised_data_dispersion <- estimateDisp(y)\n",
    "plotBCV(normalised_data_dispersion)"
   ]
  },
  {
   "cell_type": "code",
   "execution_count": null,
   "metadata": {},
   "outputs": [],
   "source": []
  }
 ],
 "metadata": {
  "kernelspec": {
   "display_name": "R",
   "language": "R",
   "name": "ir"
  },
  "language_info": {
   "codemirror_mode": "r",
   "file_extension": ".r",
   "mimetype": "text/x-r-source",
   "name": "R",
   "pygments_lexer": "r",
   "version": "3.6.1"
  }
 },
 "nbformat": 4,
 "nbformat_minor": 2
}
